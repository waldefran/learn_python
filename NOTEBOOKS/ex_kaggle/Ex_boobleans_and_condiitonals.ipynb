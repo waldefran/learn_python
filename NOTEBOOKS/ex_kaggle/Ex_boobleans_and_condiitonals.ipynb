{
    "cells": [
        {
            "cell_type": "code",
            "execution_count": null,
            "source": [
                "# Your code goes here. Define a function called 'sign'\n",
                "def sign(x):\n",
                "    if x == 0:\n",
                "        return 0\n",
                "    elif x > 1:\n",
                "        return 1\n",
                "    else:\n",
                "        return -1\n",
                "\n",
                "\n",
                "# Check your answer"
            ],
            "outputs": [],
            "metadata": {}
        },
        {
            "cell_type": "code",
            "execution_count": 4,
            "source": [
                "def prepared_for_weather(have_umbrella, rain_level, have_hood, is_workday):\n",
                "    # Don't change this code. Our goal is just to find the bug, not fix it!\n",
                "    return have_umbrella or rain_level < 5 and have_hood or not rain_level > 0 and is_workday\n",
                "\n",
                "# Change the values of these inputs so they represent a case where prepared_for_weather\n",
                "# returns the wrong answer.\n",
                "have_umbrella = False\n",
                "rain_level = 0.0\n",
                "have_hood = False\n",
                "is_workday = False\n",
                "\n",
                "# Check what the function returns given the current values of the variables above\n",
                "actual = prepared_for_weather(have_umbrella, rain_level, have_hood, is_workday)\n",
                "print(actual)\n"
            ],
            "outputs": [
                {
                    "output_type": "stream",
                    "name": "stdout",
                    "text": [
                        "False\n"
                    ]
                }
            ],
            "metadata": {}
        },
        {
            "cell_type": "markdown",
            "source": [
                "# 6. <span title=\"A bit spicy\" style=\"color: darkgreen \">🌶️</span>\n",
                "\n",
                "We’ve seen that calling `bool()` on an integer returns `False` if it’s equal to 0 and `True` otherwise. What happens if we call `int()` on a bool? Try it out in the notebook cell below.\n",
                "\n",
                "Can you take advantage of this to write a succinct function that corresponds to the English sentence \"does the customer want exactly one topping?\"?"
            ],
            "metadata": {}
        },
        {
            "cell_type": "code",
            "execution_count": 5,
            "source": [
                "def exactly_one_topping(ketchup, mustard, onion):\n",
                "    \"\"\"Return whether the customer wants exactly one of the three available toppings\n",
                "    on their hot dog.\n",
                "    \"\"\"\n",
                "    return True if (int(ketchup) + int(mustard) + int(onion)) == 1 else False\n",
                "\n",
                "exactly_one_topping(True, True, True)\n",
                "\n",
                "'''\n",
                "Correct:\n",
                "\n",
                "This condition would be pretty complicated to express using just and, or and not, but using boolean-to-integer conversion gives us this short solution:\n",
                "\n",
                "return (int(ketchup) + int(mustard) + int(onion)) == 1\n",
                "Fun fact: we don't technically need to call int on the arguments. Just by doing addition with booleans, Python implicitly does the integer conversion. So we could also write...\n",
                "\n",
                "return (ketchup + mustard + onion) == 1\n",
                "'''"
            ],
            "outputs": [
                {
                    "output_type": "execute_result",
                    "data": {
                        "text/plain": [
                            "\"\\nCorrect:\\n\\nThis condition would be pretty complicated to express using just and, or and not, but using boolean-to-integer conversion gives us this short solution:\\n\\nreturn (int(ketchup) + int(mustard) + int(onion)) == 1\\nFun fact: we don't technically need to call int on the arguments. Just by doing addition with booleans, Python implicitly does the integer conversion. So we could also write...\\n\\nreturn (ketchup + mustard + onion) == 1\\n\""
                        ]
                    },
                    "metadata": {},
                    "execution_count": 5
                }
            ],
            "metadata": {}
        },
        {
            "cell_type": "code",
            "execution_count": 15,
            "source": [
                "#PY4E STR\n",
                "#Search and Replace\n",
                "try:\n",
                "    n = input(\"Escreva um número: \")\n",
                "    i = float(n)\n",
                "    print(\"É Par!\") if i%2 == 0 else print(\"É impar\")\n",
                "except:\n",
                "    print(\"Digite um número Inteiro\")"
            ],
            "outputs": [
                {
                    "output_type": "stream",
                    "name": "stdout",
                    "text": [
                        "Digite um número Inteiro\n"
                    ]
                }
            ],
            "metadata": {}
        },
        {
            "cell_type": "code",
            "execution_count": 15,
            "source": [],
            "outputs": [
                {
                    "output_type": "error",
                    "ename": "IndexError",
                    "evalue": "list index out of range",
                    "traceback": [
                        "\u001b[0;31m---------------------------------------------------------------------------\u001b[0m",
                        "\u001b[0;31mIndexError\u001b[0m                                Traceback (most recent call last)",
                        "\u001b[0;32m<ipython-input-15-5ea8946e7d7f>\u001b[0m in \u001b[0;36m<module>\u001b[0;34m\u001b[0m\n\u001b[0;32m----> 1\u001b[0;31m \u001b[0mmenu_is_boring\u001b[0m\u001b[0;34m(\u001b[0m\u001b[0;34m[\u001b[0m\u001b[0;34m'Spam'\u001b[0m\u001b[0;34m,\u001b[0m \u001b[0;34m'Eggs'\u001b[0m\u001b[0;34m,\u001b[0m \u001b[0;34m'Spam'\u001b[0m\u001b[0;34m,\u001b[0m \u001b[0;34m'Spam'\u001b[0m\u001b[0;34m,\u001b[0m \u001b[0;34m'Bacon'\u001b[0m\u001b[0;34m,\u001b[0m \u001b[0;34m'Spam'\u001b[0m\u001b[0;34m]\u001b[0m\u001b[0;34m)\u001b[0m\u001b[0;34m\u001b[0m\u001b[0;34m\u001b[0m\u001b[0m\n\u001b[0m",
                        "\u001b[0;32m<ipython-input-14-0b24c2cb31a2>\u001b[0m in \u001b[0;36mmenu_is_boring\u001b[0;34m(meals)\u001b[0m\n\u001b[1;32m      3\u001b[0m     \u001b[0;32mfor\u001b[0m \u001b[0mi\u001b[0m \u001b[0;32min\u001b[0m \u001b[0mrange\u001b[0m\u001b[0;34m(\u001b[0m\u001b[0mlen\u001b[0m\u001b[0;34m(\u001b[0m\u001b[0mmeals\u001b[0m\u001b[0;34m)\u001b[0m\u001b[0;34m)\u001b[0m\u001b[0;34m:\u001b[0m\u001b[0;34m\u001b[0m\u001b[0;34m\u001b[0m\u001b[0m\n\u001b[1;32m      4\u001b[0m         \u001b[0mm\u001b[0m \u001b[0;34m+=\u001b[0m \u001b[0;36m1\u001b[0m\u001b[0;34m\u001b[0m\u001b[0;34m\u001b[0m\u001b[0m\n\u001b[0;32m----> 5\u001b[0;31m         \u001b[0;32mif\u001b[0m \u001b[0mmeals\u001b[0m\u001b[0;34m[\u001b[0m\u001b[0mm\u001b[0m\u001b[0;34m]\u001b[0m \u001b[0;34m==\u001b[0m \u001b[0mi\u001b[0m\u001b[0;34m:\u001b[0m\u001b[0;34m\u001b[0m\u001b[0;34m\u001b[0m\u001b[0m\n\u001b[0m\u001b[1;32m      6\u001b[0m             \u001b[0mprint\u001b[0m\u001b[0;34m(\u001b[0m\u001b[0mi\u001b[0m\u001b[0;34m)\u001b[0m\u001b[0;34m\u001b[0m\u001b[0;34m\u001b[0m\u001b[0m\n\u001b[1;32m      7\u001b[0m \u001b[0;34m\u001b[0m\u001b[0m\n",
                        "\u001b[0;31mIndexError\u001b[0m: list index out of range"
                    ]
                }
            ],
            "metadata": {}
        },
        {
            "cell_type": "code",
            "execution_count": null,
            "source": [],
            "outputs": [],
            "metadata": {}
        }
    ],
    "metadata": {
        "orig_nbformat": 4,
        "language_info": {
            "name": "python",
            "version": "3.8.8",
            "mimetype": "text/x-python",
            "codemirror_mode": {
                "name": "ipython",
                "version": 3
            },
            "pygments_lexer": "ipython3",
            "nbconvert_exporter": "python",
            "file_extension": ".py"
        },
        "kernelspec": {
            "name": "python3",
            "display_name": "Python 3.8.8 64-bit ('base': conda)"
        },
        "interpreter": {
            "hash": "3eb8dcf114e8597957ef97b5f6dd69238000bb0ffbf44d935d69bbc08a6eb6af"
        }
    },
    "nbformat": 4,
    "nbformat_minor": 2
}