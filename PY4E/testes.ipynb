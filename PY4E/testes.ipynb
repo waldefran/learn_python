{
    "cells": [
        {
            "cell_type": "code",
            "execution_count": 54,
            "source": [
                "arq = open(\"exercise/p_ex_07/mbox-short.txt\")\n",
                "soma = 0\n",
                "cont = 0\n",
                "for line in arq:\n",
                "    nline = line.rstrip()\n",
                "    if line.startswith('X-DSPAM-Confidence:'):\n",
                "        cont += 1\n",
                "        corte = line.find(\"0.\")\n",
                "        num = float(line[corte:])\n",
                "        soma += num\n",
                "media = (soma/cont)\n",
                "print(f'Average spam confidence:{media}')\n",
                "#teste\n",
                "beta = 14"
            ],
            "outputs": [
                {
                    "output_type": "stream",
                    "name": "stdout",
                    "text": [
                        "Average spam confidence:0.7507185185185187\n"
                    ]
                }
            ],
            "metadata": {}
        }
    ],
    "metadata": {
        "orig_nbformat": 4,
        "language_info": {
            "name": "python",
            "version": "3.8.8",
            "mimetype": "text/x-python",
            "codemirror_mode": {
                "name": "ipython",
                "version": 3
            },
            "pygments_lexer": "ipython3",
            "nbconvert_exporter": "python",
            "file_extension": ".py"
        },
        "kernelspec": {
            "name": "python3",
            "display_name": "Python 3.8.8 64-bit ('base': conda)"
        },
        "interpreter": {
            "hash": "3eb8dcf114e8597957ef97b5f6dd69238000bb0ffbf44d935d69bbc08a6eb6af"
        }
    },
    "nbformat": 4,
    "nbformat_minor": 2
}